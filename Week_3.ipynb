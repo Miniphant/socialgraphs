{
 "cells": [
  {
   "cell_type": "markdown",
   "metadata": {},
   "source": [
    "Exercises Week 3 "
   ]
  },
  {
   "cell_type": "markdown",
   "metadata": {},
   "source": [
    "1. What's the problem with random networks as a model for real-world networks according to the argument in section 3.5 (near the end)?\n",
    "\n",
    "In such random network that follows a binomial distribution the mayority of the nodes would have an average degree, leaving a very small number of nodes with very high of very low degree. This eliminate s the possibility of creating hubs or aisolated nodes.\n",
    "\n",
    "In real networks the number of nodes with a low degree can be quite large, if compared for example to the human social network."
   ]
  },
  {
   "cell_type": "markdown",
   "metadata": {},
   "source": [
    "2. List the four regimes that characterize random networks as a function of ⟨k⟩.\n",
    "\n",
    "Subcritical Regime 0‹ ‹k› ‹1 (p‹1/N)\n",
    "Critical Point k=1 (p=1/N)\n",
    "Super Critical Regime ‹k› ›1 (p›1/N)\n",
    "COnnected Regime ‹k› ›lnN (p›lnN/N)"
   ]
  },
  {
   "cell_type": "markdown",
   "metadata": {},
   "source": [
    "3. According to the book, why is it a problem for random networks (in terms of being a model for real-world networks) that the degree-dependent clustering C(k) decreases as a function of k in real-world networks?\n",
    "\n",
    "In reality real life networks have a larger clustering coefficient than their randomized partners, given the fact that real networks the Clustering coefficient and degree realtionship is independent from the number of nodes N*01."
   ]
  },
  {
   "cell_type": "markdown",
   "metadata": {},
   "source": []
  },
  {
   "cell_type": "markdown",
   "metadata": {},
   "source": []
  },
  {
   "cell_type": "markdown",
   "metadata": {},
   "source": []
  },
  {
   "cell_type": "markdown",
   "metadata": {},
   "source": []
  },
  {
   "cell_type": "markdown",
   "metadata": {},
   "source": []
  }
 ],
 "metadata": {
  "kernelspec": {
   "display_name": "Python 3",
   "language": "python",
   "name": "python3"
  },
  "language_info": {
   "codemirror_mode": {
    "name": "ipython",
    "version": 3
   },
   "file_extension": ".py",
   "mimetype": "text/x-python",
   "name": "python",
   "nbconvert_exporter": "python",
   "pygments_lexer": "ipython3",
   "version": "3.7.3"
  }
 },
 "nbformat": 4,
 "nbformat_minor": 2
}
